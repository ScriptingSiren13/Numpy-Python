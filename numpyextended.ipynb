{
 "cells": [
  {
   "cell_type": "code",
   "execution_count": 1,
   "id": "7c32e7fa-3712-49b5-a5de-50fa11b6330c",
   "metadata": {},
   "outputs": [],
   "source": [
    "import numpy as np\n"
   ]
  },
  {
   "cell_type": "markdown",
   "id": "131ea165-129b-4a14-aef3-02a0ba07de6f",
   "metadata": {},
   "source": [
    "####Be careful when copying arrays:"
   ]
  },
  {
   "cell_type": "code",
   "execution_count": 5,
   "id": "e6ec773e-6db1-4c2a-b06a-363262100e9c",
   "metadata": {},
   "outputs": [
    {
     "name": "stdout",
     "output_type": "stream",
     "text": [
      "[3 4 5]\n",
      "[3 9 5]\n"
     ]
    }
   ],
   "source": [
    "a=np.array([3,4,5])\n",
    "b=a\n",
    "print(b)\n",
    "b[1]=9\n",
    "print(a) #the value of a[1] changes as well"
   ]
  },
  {
   "cell_type": "code",
   "execution_count": 7,
   "id": "fcccb07b-9413-42ec-b07d-ed6edba96369",
   "metadata": {},
   "outputs": [
    {
     "name": "stdout",
     "output_type": "stream",
     "text": [
      "[8 7 0]\n",
      "[8 9 0]\n"
     ]
    }
   ],
   "source": [
    "#use copy function:\n",
    "a=np.array([8,9,0])\n",
    "b=a.copy()\n",
    "b[1]=7\n",
    "print(b)\n",
    "print(a)"
   ]
  },
  {
   "cell_type": "markdown",
   "id": "d4f1927e-3be0-40e5-8cd4-467288f0d06d",
   "metadata": {},
   "source": [
    "####MATHEMATICS:"
   ]
  },
  {
   "cell_type": "code",
   "execution_count": 10,
   "id": "a1c1ecfc-6b22-4e4d-bbbf-d9fb63549fc2",
   "metadata": {},
   "outputs": [
    {
     "name": "stdout",
     "output_type": "stream",
     "text": [
      "[3 5 7]\n"
     ]
    }
   ],
   "source": [
    "#ARITHMETIC OPERATIONS:\n",
    "q=np.array([3,5,7])\n",
    "print(q)"
   ]
  },
  {
   "cell_type": "code",
   "execution_count": 15,
   "id": "3f6cb02f-b0e9-4af9-b739-4e0c4353660d",
   "metadata": {},
   "outputs": [
    {
     "data": {
      "text/plain": [
       "array([5, 7, 9])"
      ]
     },
     "execution_count": 15,
     "metadata": {},
     "output_type": "execute_result"
    }
   ],
   "source": [
    "q+2\n",
    "\n"
   ]
  },
  {
   "cell_type": "code",
   "execution_count": 17,
   "id": "bc129144-5a1b-44a8-9701-e9668977c04b",
   "metadata": {},
   "outputs": [
    {
     "data": {
      "text/plain": [
       "array([ 6, 10, 14])"
      ]
     },
     "execution_count": 17,
     "metadata": {},
     "output_type": "execute_result"
    }
   ],
   "source": [
    "q*2"
   ]
  },
  {
   "cell_type": "markdown",
   "id": "ee9d4f7d-4cf4-4a29-add0-730006625e9f",
   "metadata": {},
   "source": [
    "q-2"
   ]
  },
  {
   "cell_type": "code",
   "execution_count": 21,
   "id": "09e0ac1a-986a-48b9-a827-687356263ae6",
   "metadata": {},
   "outputs": [
    {
     "data": {
      "text/plain": [
       "array([1.5, 2.5, 3.5])"
      ]
     },
     "execution_count": 21,
     "metadata": {},
     "output_type": "execute_result"
    }
   ],
   "source": [
    "q/2"
   ]
  },
  {
   "cell_type": "code",
   "execution_count": 23,
   "id": "3e8dd772-0364-4eef-9f37-27ec81c3df6b",
   "metadata": {},
   "outputs": [],
   "source": [
    "#assignment as well:\n"
   ]
  },
  {
   "cell_type": "code",
   "execution_count": 24,
   "id": "cb39376b-75fd-436f-8fd6-faa3e5eca076",
   "metadata": {},
   "outputs": [
    {
     "name": "stdout",
     "output_type": "stream",
     "text": [
      "[ 5 10 15]\n"
     ]
    }
   ],
   "source": [
    "w=np.array([2,5,8])\n",
    "q=np.array([3,5,7])\n",
    "print(w+q)"
   ]
  },
  {
   "cell_type": "code",
   "execution_count": 27,
   "id": "b6fddf00-6370-4159-b445-b43f7b8c5c4d",
   "metadata": {},
   "outputs": [
    {
     "name": "stdout",
     "output_type": "stream",
     "text": [
      "[ 0.14112001 -0.95892427  0.6569866 ]\n",
      "[-0.9899925   0.28366219  0.75390225]\n",
      "[-0.14254654 -3.38051501  0.87144798]\n"
     ]
    }
   ],
   "source": [
    "#Take the sin,cosin etc\n",
    "print(np.sin(q))\n",
    "print(np.cos(q))\n",
    "print(np.tan(q))"
   ]
  },
  {
   "cell_type": "markdown",
   "id": "d7cc860f-cf01-48eb-8339-8ae9522d4f17",
   "metadata": {},
   "source": []
  },
  {
   "cell_type": "markdown",
   "id": "346a83d2-28e6-4004-8e2e-5b598b0f1d45",
   "metadata": {},
   "source": [
    "#### LINEAR ALGEBRA"
   ]
  },
  {
   "cell_type": "code",
   "execution_count": 34,
   "id": "98958636-a6f2-46c6-989b-c54f4a884484",
   "metadata": {},
   "outputs": [
    {
     "name": "stdout",
     "output_type": "stream",
     "text": [
      "[[1. 1. 1.]\n",
      " [1. 1. 1.]]\n",
      "[[2 2]\n",
      " [2 2]\n",
      " [2 2]]\n"
     ]
    },
    {
     "data": {
      "text/plain": [
       "array([[6., 6.],\n",
       "       [6., 6.]])"
      ]
     },
     "execution_count": 34,
     "metadata": {},
     "output_type": "execute_result"
    }
   ],
   "source": [
    "e=np.ones((2,3))\n",
    "print(e)\n",
    "r=np.full((3,2),2)\n",
    "print(r)\n",
    "np.matmul(e,r) #MAKE SURE THE NUMBER OF ROWS=NUMBER OF COLUMNS (i.e here 3=3)"
   ]
  },
  {
   "cell_type": "code",
   "execution_count": 35,
   "id": "7a53e41a-db57-4a0f-a15c-326095912500",
   "metadata": {},
   "outputs": [
    {
     "name": "stdout",
     "output_type": "stream",
     "text": [
      "[[1. 1. 1.]\n",
      " [1. 1. 1.]]\n",
      "[[2 2]\n",
      " [2 2]\n",
      " [2 2]]\n",
      "[[6 6]\n",
      " [6 6]]\n"
     ]
    }
   ],
   "source": [
    "#For int data type:\n",
    "e=np.ones((2,3))\n",
    "print(e)\n",
    "r=np.full((3,2),2)\n",
    "print(r)\n",
    "t=np.matmul(e,r).astype(int)\n",
    "print(t)"
   ]
  },
  {
   "cell_type": "code",
   "execution_count": 37,
   "id": "ebc11556-2960-4000-b967-b1f98e4b2588",
   "metadata": {},
   "outputs": [
    {
     "data": {
      "text/plain": [
       "np.float64(1.0)"
      ]
     },
     "execution_count": 37,
     "metadata": {},
     "output_type": "execute_result"
    }
   ],
   "source": [
    "#Fnd the deteminant:\n",
    "y=np.identity(3)\n",
    "np.linalg.det(y)"
   ]
  },
  {
   "cell_type": "code",
   "execution_count": null,
   "id": "5b139767-59ba-4948-98c9-392d3033e76b",
   "metadata": {},
   "outputs": [],
   "source": []
  },
  {
   "cell_type": "markdown",
   "id": "bc2f389d-b328-45a2-9143-4c7f9a22daad",
   "metadata": {},
   "source": [
    "#### Statistics"
   ]
  },
  {
   "cell_type": "code",
   "execution_count": 39,
   "id": "d7158dfa-9281-4a9a-a634-63e20e4c65f9",
   "metadata": {},
   "outputs": [
    {
     "data": {
      "text/plain": [
       "array([[2, 3, 4],\n",
       "       [7, 9, 3]])"
      ]
     },
     "execution_count": 39,
     "metadata": {},
     "output_type": "execute_result"
    }
   ],
   "source": [
    "stats=np.array([[2,3,4],[7,9,3]])\n",
    "stats"
   ]
  },
  {
   "cell_type": "code",
   "execution_count": 41,
   "id": "4f65df4d-5d84-4a0d-b9be-8b5e052c0c66",
   "metadata": {},
   "outputs": [
    {
     "data": {
      "text/plain": [
       "array([2, 3])"
      ]
     },
     "execution_count": 41,
     "metadata": {},
     "output_type": "execute_result"
    }
   ],
   "source": [
    "np.min(stats,axis=1)"
   ]
  },
  {
   "cell_type": "code",
   "execution_count": 42,
   "id": "d54f765e-99c1-40a0-ba51-c9ebc32f42ba",
   "metadata": {},
   "outputs": [
    {
     "data": {
      "text/plain": [
       "np.int64(9)"
      ]
     },
     "execution_count": 42,
     "metadata": {},
     "output_type": "execute_result"
    }
   ],
   "source": [
    "np.max(stats)"
   ]
  },
  {
   "cell_type": "markdown",
   "id": "b9a68e4d-1059-45ae-9096-f81b4a178acd",
   "metadata": {},
   "source": [
    "#### REORGANIZING ARRAYS"
   ]
  },
  {
   "cell_type": "code",
   "execution_count": 43,
   "id": "5038baa4-34d1-4100-b086-f15c7df901df",
   "metadata": {},
   "outputs": [
    {
     "name": "stdout",
     "output_type": "stream",
     "text": [
      "[[3 4 6 7]\n",
      " [6 3 4 9]]\n",
      "[[3]\n",
      " [4]\n",
      " [6]\n",
      " [7]\n",
      " [6]\n",
      " [3]\n",
      " [4]\n",
      " [9]]\n"
     ]
    }
   ],
   "source": [
    "before=np.array([[3,4,6,7],[6,3,4,9]])\n",
    "print(before)\n",
    "after=before.reshape((8,1)) #should have the same amount of values \n",
    "print(after)"
   ]
  },
  {
   "cell_type": "code",
   "execution_count": 45,
   "id": "174c6167-5850-46b5-bcf4-319df76943e4",
   "metadata": {},
   "outputs": [
    {
     "name": "stdout",
     "output_type": "stream",
     "text": [
      "[[[3 4]\n",
      "  [6 7]]\n",
      "\n",
      " [[6 3]\n",
      "  [4 9]]]\n"
     ]
    }
   ],
   "source": [
    "before=np.array([[3,4,6,7],[6,3,4,9]])\n",
    "after=before.reshape((2,2,2)) #should have the same amount of values \n",
    "print(after)"
   ]
  },
  {
   "cell_type": "code",
   "execution_count": 46,
   "id": "81c9c35e-0e24-45f7-a23d-037bca74bf16",
   "metadata": {},
   "outputs": [
    {
     "data": {
      "text/plain": [
       "array([[1, 2, 3, 4],\n",
       "       [5, 6, 7, 8]])"
      ]
     },
     "execution_count": 46,
     "metadata": {},
     "output_type": "execute_result"
    }
   ],
   "source": [
    "#Vertically stacking vectors\n",
    "v1=np.array([1,2,3,4])\n",
    "v2=np.array([5,6,7,8])\n",
    "np.vstack((v1,v2))"
   ]
  },
  {
   "cell_type": "code",
   "execution_count": 49,
   "id": "5bb0d932-7632-4056-afe7-56e42126c36d",
   "metadata": {},
   "outputs": [
    {
     "data": {
      "text/plain": [
       "array([[1., 1., 1., 1., 0., 0.],\n",
       "       [1., 1., 1., 1., 0., 0.]])"
      ]
     },
     "execution_count": 49,
     "metadata": {},
     "output_type": "execute_result"
    }
   ],
   "source": [
    "h1=np.ones((2,4))\n",
    "h2=np.zeros((2,2))\n",
    "np.hstack((h1,h2))"
   ]
  },
  {
   "cell_type": "markdown",
   "id": "ad27fc89-67ee-4090-9cac-de578caed660",
   "metadata": {},
   "source": [
    "#### Miscellaneous\n"
   ]
  },
  {
   "cell_type": "code",
   "execution_count": 50,
   "id": "a47f9dfc-302c-402e-ae95-90083c7d8e58",
   "metadata": {},
   "outputs": [],
   "source": [
    "# Load data from File"
   ]
  },
  {
   "cell_type": "code",
   "execution_count": 54,
   "id": "ec83a142-7f59-42b9-80ee-3e52436352a7",
   "metadata": {},
   "outputs": [
    {
     "data": {
      "text/plain": [
       "array([[  1,  13,  21,  11, 196,  75,   4,   3,  34,   6,   7,   8,   0,\n",
       "          1,   2,   3,   4,   5],\n",
       "       [  3,  42,  12,  33, 766,  75,   4,  55,   6,   4,   3,   4,   5,\n",
       "          6,   7,   0,  11,  12],\n",
       "       [  1,  22,  33,  11, 999,  11,   2,   1,  78,   0,   1,   2,   9,\n",
       "          8,   7,   1,  76,  88]], dtype=int32)"
      ]
     },
     "execution_count": 54,
     "metadata": {},
     "output_type": "execute_result"
    }
   ],
   "source": [
    "filedata=np.genfromtxt('data.txt',delimiter=',') #delimiter is the seperator(here,comma)\n",
    "filedata=filedata.astype('int32')\n",
    "filedata"
   ]
  },
  {
   "cell_type": "code",
   "execution_count": 55,
   "id": "deff46d1-5593-4e7c-8c49-0c4729b77d65",
   "metadata": {},
   "outputs": [],
   "source": [
    "#BOOLEAN MASKING AND ADVANCED INDEXING"
   ]
  },
  {
   "cell_type": "code",
   "execution_count": 56,
   "id": "306d4971-a173-4c5f-9c1d-c694c80a33fd",
   "metadata": {},
   "outputs": [
    {
     "data": {
      "text/plain": [
       "array([[False, False, False, False,  True,  True, False, False, False,\n",
       "        False, False, False, False, False, False, False, False, False],\n",
       "       [False, False, False, False,  True,  True, False,  True, False,\n",
       "        False, False, False, False, False, False, False, False, False],\n",
       "       [False, False, False, False,  True, False, False, False,  True,\n",
       "        False, False, False, False, False, False, False,  True,  True]])"
      ]
     },
     "execution_count": 56,
     "metadata": {},
     "output_type": "execute_result"
    }
   ],
   "source": [
    "filedata >50"
   ]
  },
  {
   "cell_type": "code",
   "execution_count": 57,
   "id": "21956f4c-eea0-4c8c-954e-04085460e028",
   "metadata": {},
   "outputs": [
    {
     "data": {
      "text/plain": [
       "array([196,  75, 766,  75,  55, 999,  78,  76,  88], dtype=int32)"
      ]
     },
     "execution_count": 57,
     "metadata": {},
     "output_type": "execute_result"
    }
   ],
   "source": [
    "filedata[filedata >50] #grabs only those values which are greater than 50"
   ]
  },
  {
   "cell_type": "code",
   "execution_count": 59,
   "id": "33f18ee4-dc1e-422c-b366-765a02484acd",
   "metadata": {},
   "outputs": [
    {
     "data": {
      "text/plain": [
       "array([2, 3, 9])"
      ]
     },
     "execution_count": 59,
     "metadata": {},
     "output_type": "execute_result"
    }
   ],
   "source": [
    "#You can index with a list in NumPY:\n",
    "i=np.array((1,2,3,4,5,6,7,8,9))\n",
    "i[[1,2,8]]"
   ]
  },
  {
   "cell_type": "code",
   "execution_count": 60,
   "id": "2404130d-a222-46fe-a479-1ed8c398b824",
   "metadata": {},
   "outputs": [
    {
     "data": {
      "text/plain": [
       "array([False, False, False, False,  True,  True, False,  True,  True,\n",
       "       False, False, False, False, False, False, False,  True,  True])"
      ]
     },
     "execution_count": 60,
     "metadata": {},
     "output_type": "execute_result"
    }
   ],
   "source": [
    "#If any column has a value greater than 50?\n",
    "np.any(filedata >50, axis=0)"
   ]
  },
  {
   "cell_type": "code",
   "execution_count": 61,
   "id": "42731fe8-a920-4c66-8fe3-50b10fc0298f",
   "metadata": {},
   "outputs": [
    {
     "data": {
      "text/plain": [
       "array([False, False, False, False,  True, False, False, False, False,\n",
       "       False, False, False, False, False, False, False, False, False])"
      ]
     },
     "execution_count": 61,
     "metadata": {},
     "output_type": "execute_result"
    }
   ],
   "source": [
    "#If all the columns have values greater than 50?\n",
    "np.all(filedata>50,axis=0)"
   ]
  },
  {
   "cell_type": "code",
   "execution_count": 62,
   "id": "a76b1061-950c-4113-81bb-e44feea2d0a3",
   "metadata": {},
   "outputs": [
    {
     "data": {
      "text/plain": [
       "array([False, False, False])"
      ]
     },
     "execution_count": 62,
     "metadata": {},
     "output_type": "execute_result"
    }
   ],
   "source": [
    "#If all the rows have values greater than 50?\n",
    "np.all(filedata>50,axis=1)"
   ]
  },
  {
   "cell_type": "code",
   "execution_count": 63,
   "id": "70ff43c7-bbfb-4a86-b218-a1a0ffaeafb2",
   "metadata": {},
   "outputs": [
    {
     "data": {
      "text/plain": [
       "array([[False, False, False, False, False,  True, False, False, False,\n",
       "        False, False, False, False, False, False, False, False, False],\n",
       "       [False, False, False, False, False,  True, False,  True, False,\n",
       "        False, False, False, False, False, False, False, False, False],\n",
       "       [False, False, False, False, False, False, False, False,  True,\n",
       "        False, False, False, False, False, False, False,  True,  True]])"
      ]
     },
     "execution_count": 63,
     "metadata": {},
     "output_type": "execute_result"
    }
   ],
   "source": [
    "#Giving it some conditions(Boolean masling):\n",
    "((filedata>50) & (filedata<100))"
   ]
  },
  {
   "cell_type": "code",
   "execution_count": 65,
   "id": "219a3f03-7352-423f-b6f0-1fafd5ce0804",
   "metadata": {},
   "outputs": [
    {
     "data": {
      "text/plain": [
       "array([[ True,  True,  True,  True, False, False,  True,  True,  True,\n",
       "         True,  True,  True,  True,  True,  True,  True,  True,  True],\n",
       "       [ True,  True,  True,  True, False, False,  True, False,  True,\n",
       "         True,  True,  True,  True,  True,  True,  True,  True,  True],\n",
       "       [ True,  True,  True,  True, False,  True,  True,  True, False,\n",
       "         True,  True,  True,  True,  True,  True,  True, False, False]])"
      ]
     },
     "execution_count": 65,
     "metadata": {},
     "output_type": "execute_result"
    }
   ],
   "source": [
    "(~(filedata>50) & (filedata<100)) #not greater than 50"
   ]
  },
  {
   "cell_type": "code",
   "execution_count": null,
   "id": "071f69f2-81c1-4fa9-ad98-82efe7e2dddd",
   "metadata": {},
   "outputs": [],
   "source": []
  }
 ],
 "metadata": {
  "kernelspec": {
   "display_name": "Python 3 (ipykernel)",
   "language": "python",
   "name": "python3"
  },
  "language_info": {
   "codemirror_mode": {
    "name": "ipython",
    "version": 3
   },
   "file_extension": ".py",
   "mimetype": "text/x-python",
   "name": "python",
   "nbconvert_exporter": "python",
   "pygments_lexer": "ipython3",
   "version": "3.12.4"
  }
 },
 "nbformat": 4,
 "nbformat_minor": 5
}
